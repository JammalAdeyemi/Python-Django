{
 "cells": [
  {
   "attachments": {},
   "cell_type": "markdown",
   "metadata": {},
   "source": [
    "Create a program _displayCrime.py_ to read the data file. Your program should prompt the user for a city and a crime code. The program will then find the number of crimes in the city. e.g.:\n",
    "\n",
    "_City_: manchester\n",
    "\n",
    "_Crime code_: 77\n",
    "\n",
    "The program should display the crime data about the city:\n",
    "\n",
    "harassment in manchester: 3"
   ]
  },
  {
   "cell_type": "code",
   "execution_count": 4,
   "metadata": {},
   "outputs": [
    {
     "ename": "ValueError",
     "evalue": "not enough values to unpack (expected 5, got 1)",
     "output_type": "error",
     "traceback": [
      "\u001b[1;31m---------------------------------------------------------------------------\u001b[0m",
      "\u001b[1;31mValueError\u001b[0m                                Traceback (most recent call last)",
      "Cell \u001b[1;32mIn [4], line 7\u001b[0m\n\u001b[0;32m      5\u001b[0m     \u001b[39mnext\u001b[39m(f)\n\u001b[0;32m      6\u001b[0m     \u001b[39mfor\u001b[39;00m line \u001b[39min\u001b[39;00m f:\n\u001b[1;32m----> 7\u001b[0m         No, city, crime, crime_code, num_crimes \u001b[39m=\u001b[39m line\u001b[39m.\u001b[39mstrip()\u001b[39m.\u001b[39msplit(\u001b[39m'\u001b[39m\u001b[39m,\u001b[39m\u001b[39m'\u001b[39m)\n\u001b[0;32m      8\u001b[0m         crime_data[(city, crime_code)] \u001b[39m=\u001b[39m (crime, num_crimes)\n\u001b[0;32m     10\u001b[0m \u001b[39m# Prompt user for city and crime code\u001b[39;00m\n",
      "\u001b[1;31mValueError\u001b[0m: not enough values to unpack (expected 5, got 1)"
     ]
    }
   ],
   "source": [
    "# Read data file and store in a dictionary\n",
    "crime_data = {}\n",
    "with open('crimedata.txt', 'r') as f:\n",
    "    # Skip the first line (header row)\n",
    "    next(f)\n",
    "    for line in f:\n",
    "        No, city, crime, crime_code, num_crimes = line.strip().split(',')\n",
    "        crime_data[(city, crime_code)] = (crime, num_crimes)\n",
    "\n",
    "# Prompt user for city and crime code\n",
    "city = input('City: ')\n",
    "crime_code = input('Crime code: ')\n",
    "\n",
    "# Look up crime data in dictionary\n",
    "crime_info = crime_data.get((city, crime_code))\n",
    "\n",
    "# Print out crime data\n",
    "if crime_info is not None:\n",
    "    crime, num_crimes = crime_info\n",
    "    print(f'harassment in {city}: {num_crimes}')\n",
    "else:\n",
    "    print(f'No data available for {crime_code} in {city}')\n",
    "\n",
    "\n",
    "def main():\n",
    "    city = input(\"City: \")\n",
    "    crime_code = input(\"Crime code: \")\n",
    "    crime_data = read_crime_data()\n",
    "    display_crime_data(crime_data, city, crime_code)\n",
    "\n",
    "def read_crime_data():\n",
    "    crime_data = {}\n",
    "    with open(\"crimedata.txt\") as f:\n",
    "        for line in f:\n",
    "            line = line.strip()\n",
    "            crime_id, city, crime_type, crime_code = line.split(\"\\t\")\n",
    "            crime_data[crime_id] = (city, crime_type, crime_code)\n",
    "    return crime_data\n",
    "\n",
    "def display_crime_data(crime_data, city, crime_code):\n",
    "    count = 0\n",
    "    for crime_id in crime_data:\n",
    "        if crime_data[crime_id][0] == city and crime_data[crime_id][2] == crime_code:\n",
    "            count += 1\n",
    "    print(\"{} in {}: {}\".format(crime_data[crime_id], city, count))\n",
    "\n",
    "main()\n",
    "\n"
   ]
  },
  {
   "cell_type": "code",
   "execution_count": 9,
   "metadata": {},
   "outputs": [
    {
     "name": "stdout",
     "output_type": "stream",
     "text": [
      "Number of 77 crimes in manchester: 0\n"
     ]
    }
   ],
   "source": [
    "# Get the city and crime code from the user\n",
    "city = input(\"Enter the city: \")\n",
    "crime_code = input(\"Enter the crime code: \")\n",
    "\n",
    "# Open the file and read the lines\n",
    "with open('crimedata.txt', 'r') as f:\n",
    "    lines = f.readlines()\n",
    "\n",
    "# Initialize a counter\n",
    "count = 0\n",
    "\n",
    "# Iterate through the lines and update the count\n",
    "for line in lines:\n",
    "    if line.split()[1] == city and line.split()[2] == crime_code:\n",
    "        count += 1\n",
    "\n",
    "# Print the count\n",
    "print(f'Number of {crime_code} crimes in {city}: {count}')\n"
   ]
  },
  {
   "cell_type": "code",
   "execution_count": 15,
   "metadata": {},
   "outputs": [
    {
     "ename": "IndexError",
     "evalue": "list index out of range",
     "output_type": "error",
     "traceback": [
      "\u001b[1;31m---------------------------------------------------------------------------\u001b[0m",
      "\u001b[1;31mIndexError\u001b[0m                                Traceback (most recent call last)",
      "Cell \u001b[1;32mIn [15], line 12\u001b[0m\n\u001b[0;32m     10\u001b[0m city \u001b[39m=\u001b[39m lines[i\u001b[39m+\u001b[39m\u001b[39m1\u001b[39m]\u001b[39m.\u001b[39mstrip()\n\u001b[0;32m     11\u001b[0m crime \u001b[39m=\u001b[39m lines[i\u001b[39m+\u001b[39m\u001b[39m2\u001b[39m]\u001b[39m.\u001b[39mstrip()\n\u001b[1;32m---> 12\u001b[0m crime_code \u001b[39m=\u001b[39m lines[i\u001b[39m+\u001b[39;49m\u001b[39m3\u001b[39;49m]\u001b[39m.\u001b[39mstrip()\n\u001b[0;32m     14\u001b[0m \u001b[39m# Add the crime data to the dictionary\u001b[39;00m\n\u001b[0;32m     15\u001b[0m \u001b[39mif\u001b[39;00m city \u001b[39mnot\u001b[39;00m \u001b[39min\u001b[39;00m crime_data:\n",
      "\u001b[1;31mIndexError\u001b[0m: list index out of range"
     ]
    }
   ],
   "source": [
    "# Open the data file and read its contents into a list of lines\n",
    "with open('crimedata.txt', 'r') as f:\n",
    "    lines = f.readlines()\n",
    "\n",
    "# Create a dictionary to store the crime data\n",
    "crime_data = {}\n",
    "\n",
    "# Loop through the lines and extract the city, crime, and crime code\n",
    "for i in range(0, len(lines), 3):\n",
    "    city = lines[i+1].strip()\n",
    "    crime = lines[i+2].strip()\n",
    "    crime_code = lines[i+3].strip()\n",
    "\n",
    "    # Add the crime data to the dictionary\n",
    "    if city not in crime_data:\n",
    "        crime_data[city] = {crime_code: {crime: 1}}\n",
    "    else:\n",
    "        if crime_code not in crime_data[city]:\n",
    "            crime_data[city][crime_code] = {crime: 1}\n",
    "        else:\n",
    "            if crime not in crime_data[city][crime_code]:\n",
    "                crime_data[city][crime_code][crime] = 1\n",
    "            else:\n",
    "                crime_data[city][crime_code][crime] += 1\n",
    "\n",
    "# Prompt the user for a city and a crime code\n",
    "city = input(\"City: \")\n",
    "crime_code = input(\"Crime code: \")\n",
    "\n",
    "# Display the crime data for the city and crime code\n",
    "if city in crime_data and crime_code in crime_data[city]:\n",
    "    for crime, count in crime_data[city][crime_code].items():\n",
    "        print(f\"{crime} in {city}: {count}\")\n",
    "else:\n",
    "    print(\"No data available for the given city and crime code.\")\n"
   ]
  },
  {
   "cell_type": "code",
   "execution_count": 21,
   "metadata": {},
   "outputs": [
    {
     "name": "stdout",
     "output_type": "stream",
     "text": [
      "take_vehcle in newcastle: 2\n"
     ]
    }
   ],
   "source": [
    "def main():\n",
    "    city = input(\"City: \")\n",
    "    crime_code = input(\"Crime code: \")\n",
    "    crime_data = read_crime_data()\n",
    "    display_crime_data(crime_data, city, crime_code)\n",
    "\n",
    "def read_crime_data():\n",
    "    crime_data = {}\n",
    "    with open(\"crimedata.txt\") as f:\n",
    "        for line in f:\n",
    "            line = line.strip()\n",
    "            crime_id, city, crime_type, crime_code = line.split(\"\\t\")\n",
    "            crime_data[crime_id] = (city, crime_type, crime_code)\n",
    "    return crime_data\n",
    "\n",
    "def display_crime_data(crime_data, city, crime_code):\n",
    "    count = 0\n",
    "    for crime_id in crime_data:\n",
    "        if crime_data[crime_id][0] == city and crime_data[crime_id][2] == crime_code:\n",
    "            count += 1\n",
    "    print(\"{} in {}: {}\".format(crime_data[crime_id][1], city, count))\n",
    "\n",
    "main()"
   ]
  },
  {
   "cell_type": "code",
   "execution_count": null,
   "metadata": {},
   "outputs": [],
   "source": []
  }
 ],
 "metadata": {
  "kernelspec": {
   "display_name": "Python 3",
   "language": "python",
   "name": "python3"
  },
  "language_info": {
   "codemirror_mode": {
    "name": "ipython",
    "version": 3
   },
   "file_extension": ".py",
   "mimetype": "text/x-python",
   "name": "python",
   "nbconvert_exporter": "python",
   "pygments_lexer": "ipython3",
   "version": "3.9.7"
  },
  "orig_nbformat": 4,
  "vscode": {
   "interpreter": {
    "hash": "f44a971b6fee70a18eb961a728c4c2bf164ef47e0339fc88364546047bf7704d"
   }
  }
 },
 "nbformat": 4,
 "nbformat_minor": 2
}
